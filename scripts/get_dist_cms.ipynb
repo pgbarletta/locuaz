{
 "cells": [
  {
   "cell_type": "code",
   "execution_count": 1,
   "metadata": {},
   "outputs": [
    {
     "name": "stderr",
     "output_type": "stream",
     "text": [
      "/home/pbarletta/anaconda3/envs/mdtraj/lib/python3.10/site-packages/tqdm/auto.py:22: TqdmWarning: IProgress not found. Please update jupyter and ipywidgets. See https://ipywidgets.readthedocs.io/en/stable/user_install.html\n",
      "  from .autonotebook import tqdm as notebook_tqdm\n"
     ]
    }
   ],
   "source": [
    "import MDAnalysis as mda\n",
    "from MDAnalysis.analysis.distances import dist\n",
    "from collections import defaultdict\n",
    "import numpy as np\n",
    "from functools import partial"
   ]
  },
  {
   "cell_type": "code",
   "execution_count": 2,
   "metadata": {},
   "outputs": [],
   "source": [
    "u = mda.Universe(\"npt_c8c3.tpr\", \"npt_c8c3.xtc\")"
   ]
  },
  {
   "cell_type": "code",
   "execution_count": 11,
   "metadata": {},
   "outputs": [
    {
     "name": "stderr",
     "output_type": "stream",
     "text": [
      "/home/pbarletta/anaconda3/envs/mdtraj/lib/python3.10/site-packages/MDAnalysis/coordinates/PDB.py:1129: UserWarning: Found no information for attr: 'altLocs' Using default value of ' '\n",
      "  warnings.warn(\"Found no information for attr: '{}'\"\n",
      "/home/pbarletta/anaconda3/envs/mdtraj/lib/python3.10/site-packages/MDAnalysis/coordinates/PDB.py:1129: UserWarning: Found no information for attr: 'icodes' Using default value of ' '\n",
      "  warnings.warn(\"Found no information for attr: '{}'\"\n",
      "/home/pbarletta/anaconda3/envs/mdtraj/lib/python3.10/site-packages/MDAnalysis/coordinates/PDB.py:1129: UserWarning: Found no information for attr: 'chainIDs' Using default value of ''\n",
      "  warnings.warn(\"Found no information for attr: '{}'\"\n",
      "/home/pbarletta/anaconda3/envs/mdtraj/lib/python3.10/site-packages/MDAnalysis/coordinates/PDB.py:1129: UserWarning: Found no information for attr: 'occupancies' Using default value of '1.0'\n",
      "  warnings.warn(\"Found no information for attr: '{}'\"\n",
      "/home/pbarletta/anaconda3/envs/mdtraj/lib/python3.10/site-packages/MDAnalysis/coordinates/PDB.py:1129: UserWarning: Found no information for attr: 'tempfactors' Using default value of '0.0'\n",
      "  warnings.warn(\"Found no information for attr: '{}'\"\n",
      "/home/pbarletta/anaconda3/envs/mdtraj/lib/python3.10/site-packages/MDAnalysis/coordinates/PDB.py:1129: UserWarning: Found no information for attr: 'record_types' Using default value of 'ATOM'\n",
      "  warnings.warn(\"Found no information for attr: '{}'\"\n",
      "/home/pbarletta/anaconda3/envs/mdtraj/lib/python3.10/site-packages/MDAnalysis/coordinates/PDB.py:1129: UserWarning: Found no information for attr: 'formalcharges' Using default value of '0'\n",
      "  warnings.warn(\"Found no information for attr: '{}'\"\n",
      "/home/pbarletta/anaconda3/envs/mdtraj/lib/python3.10/site-packages/MDAnalysis/coordinates/PDB.py:1176: UserWarning: Found missing chainIDs. Corresponding atoms will use value of 'X'\n",
      "  warnings.warn(\"Found missing chainIDs.\"\n"
     ]
    }
   ],
   "source": [
    "u.select_atoms(\"protein\").write(\"non.pdb\", frames = u.trajectory[::20])"
   ]
  },
  {
   "cell_type": "code",
   "execution_count": 7,
   "metadata": {},
   "outputs": [
    {
     "name": "stderr",
     "output_type": "stream",
     "text": [
      "100%|██████████| 46/46 [00:01<00:00, 25.10it/s]\n",
      "100%|██████████| 46/46 [00:00<00:00, 111.33it/s]\n"
     ]
    },
    {
     "name": "stdout",
     "output_type": "stream",
     "text": [
      "0.0\n",
      "0.12844218587558487\n"
     ]
    }
   ],
   "source": [
    "cm_wrapped = defaultdict(list)\n",
    "for ts in mda.log.ProgressBar(u.trajectory[::20]):\n",
    "    target = u.segments[0]\n",
    "    binder = u.segments[1]\n",
    "    \n",
    "    cm_wrapped[target.segid].append(target.atoms.center_of_mass(unwrap = True))\n",
    "    cm_wrapped[binder.segid].append(binder.atoms.center_of_mass(unwrap = True))\n",
    "\n",
    "cm_pbc = defaultdict(list)\n",
    "for ts in mda.log.ProgressBar(u.trajectory[::20]):\n",
    "    target = u.segments[0]\n",
    "    binder = u.segments[1]\n",
    "    \n",
    "    cm_pbc[target.segid].append(target.atoms.center_of_mass())\n",
    "    cm_pbc[binder.segid].append(binder.atoms.center_of_mass())\n",
    "\n",
    "# Are these coordinates the same?\n",
    "for segid, cms in cm_wrapped.items():\n",
    "    print(np.linalg.norm(np.array(cm_pbc[segid]) - np.array(cms)))"
   ]
  },
  {
   "cell_type": "code",
   "execution_count": 8,
   "metadata": {},
   "outputs": [],
   "source": [
    "diff = []\n",
    "for ts in u.trajectory[::20]:\n",
    "    target = u.segments[0]\n",
    "    binder = u.segments[1]\n",
    "    \n",
    "    diff.append(\n",
    "        np.linalg.norm(target.atoms.center_of_mass() - binder.atoms.center_of_mass()))"
   ]
  },
  {
   "cell_type": "code",
   "execution_count": 9,
   "metadata": {},
   "outputs": [
    {
     "data": {
      "text/plain": [
       "[39.101956034769685,\n",
       " 39.34195679470879,\n",
       " 39.76903913013939,\n",
       " 39.68063896401269,\n",
       " 39.66787726843969,\n",
       " 39.611130290931406,\n",
       " 39.91776308977685,\n",
       " 39.87885226599322,\n",
       " 40.02206808647422,\n",
       " 39.98261528668409,\n",
       " 39.85787139262804,\n",
       " 40.19929568046194,\n",
       " 40.03528826579338,\n",
       " 40.770674449635635,\n",
       " 40.58789269706838,\n",
       " 40.55694505095564,\n",
       " 40.928901257451045,\n",
       " 41.15057595646949,\n",
       " 40.965204086020236,\n",
       " 41.39019607109798,\n",
       " 41.2229120197344,\n",
       " 41.215030040359935,\n",
       " 41.55773483978859,\n",
       " 41.85282165094842,\n",
       " 41.96374582112938,\n",
       " 42.624417022307576,\n",
       " 42.82092619402368,\n",
       " 43.01341954912319,\n",
       " 43.49646889471085,\n",
       " 43.99656720343355,\n",
       " 44.60589643052702,\n",
       " 44.766512221287925,\n",
       " 44.93607695429199,\n",
       " 45.033164019655175,\n",
       " 45.53989025298403,\n",
       " 46.11452627426557,\n",
       " 46.37744535802962,\n",
       " 47.35348027958838,\n",
       " 48.26081033245544,\n",
       " 48.5901771509779,\n",
       " 49.425433721280854,\n",
       " 50.7540642165054,\n",
       " 51.422761220282496,\n",
       " 52.16664329146747,\n",
       " 52.77926414368966,\n",
       " 53.588863776104596]"
      ]
     },
     "execution_count": 9,
     "metadata": {},
     "output_type": "execute_result"
    }
   ],
   "source": [
    "diff"
   ]
  }
 ],
 "metadata": {
  "kernelspec": {
   "display_name": "Python 3.10.2 ('mdtraj')",
   "language": "python",
   "name": "python3"
  },
  "language_info": {
   "codemirror_mode": {
    "name": "ipython",
    "version": 3
   },
   "file_extension": ".py",
   "mimetype": "text/x-python",
   "name": "python",
   "nbconvert_exporter": "python",
   "pygments_lexer": "ipython3",
   "version": "3.10.2"
  },
  "orig_nbformat": 4,
  "vscode": {
   "interpreter": {
    "hash": "70c485f5dd2a3fa7b2691a7c2f24a679b8383fa6708e6dbf719b8ad856723649"
   }
  }
 },
 "nbformat": 4,
 "nbformat_minor": 2
}
